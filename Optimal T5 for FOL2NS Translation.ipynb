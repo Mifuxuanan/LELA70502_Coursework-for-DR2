{
 "cells": [
  {
   "cell_type": "markdown",
   "id": "57280da7-6b4a-42dd-9fed-1010bfd2b42f",
   "metadata": {},
   "source": [
    "# Optimal T5 for FOL2NS Translation\n",
    "- Model: T5-large\n",
    "- Method: \n",
    "  1. Add special symbols to T5Tokenizer\n",
    "  2. Replace special symbols with corresponding natural words\n",
    "  3. In validation stage, use \"model.generate()\" with \"num_beams=5, repetition_penalty=1, no_repeat_ngram_size=2,max_length=64, early_stopping=True\n",
    "  4. In test stage, use \"model.generate()\" with \"num_beams=5, repetition_penalty=1, no_repeat_ngram_size=3, early_stopping=True, max_length=100\""
   ]
  },
  {
   "cell_type": "code",
   "execution_count": 4,
   "id": "a1d0bdae-8e83-4308-814d-658dbb1b51a7",
   "metadata": {
    "tags": []
   },
   "outputs": [],
   "source": [
    "from sklearn.model_selection import train_test_split\n",
    "from math import ceil, log10\n",
    "import os\n",
    "from glob import glob\n",
    "import numpy as np\n",
    "import pandas as pd\n",
    "import torch\n",
    "import torch.nn as nn\n",
    "from collections import defaultdict\n",
    "import matplotlib.pyplot as plt\n",
    "\n",
    "from tqdm.auto import tqdm"
   ]
  },
  {
   "cell_type": "markdown",
   "id": "f7016108-19e6-4d0f-89ee-3b5a93ddba35",
   "metadata": {},
   "source": [
    "## Tokenizer"
   ]
  },
  {
   "cell_type": "code",
   "execution_count": 5,
   "id": "b39594c9-59a8-4f3f-97d9-a776a75f6a8a",
   "metadata": {
    "tags": []
   },
   "outputs": [],
   "source": [
    "FOL2NS_dataset = pd.read_json(\n",
    "    \"FOL2NS.json\",\n",
    "    orient=\"records\",\n",
    "    lines=True\n",
    ")\n",
    "\n",
    "FOL2NW_with_predicate = pd.read_json(\n",
    "    \"FOL2NW_with_predicate.json\",\n",
    "    orient=\"records\",\n",
    "    lines=True\n",
    ")"
   ]
  },
  {
   "cell_type": "code",
   "execution_count": 6,
   "id": "28d2ee8f-a537-4dfc-a9d4-14e6297ef2a7",
   "metadata": {
    "tags": []
   },
   "outputs": [],
   "source": [
    "from transformers import T5Tokenizer, T5ForConditionalGeneration\n",
    "tokenizer = T5Tokenizer.from_pretrained(\"google-t5/t5-large\")\n",
    "model = T5ForConditionalGeneration.from_pretrained(\"google-t5/t5-large\").to(\"cuda:0\")"
   ]
  },
  {
   "cell_type": "code",
   "execution_count": 7,
   "id": "48fa964c-3582-42d6-9872-dff97aafa9af",
   "metadata": {
    "tags": []
   },
   "outputs": [
    {
     "name": "stdout",
     "output_type": "stream",
     "text": [
      "None\n",
      "None\n",
      "None\n",
      "None\n",
      "None\n",
      "None\n",
      "None\n"
     ]
    }
   ],
   "source": [
    "symbol_ls = ['<¬>', '<∀>', '<∃>', '<⊕>', '<→>', '<∧>', '<∨>']\n",
    "for i in symbol_ls:\n",
    "    # check_tokenizer = tokenizer.encode(i, add_special_tokens=False)\n",
    "    token_id = tokenizer.convert_tokens_to_ids(i)\n",
    "    if token_id != tokenizer.unk_token_id:\n",
    "        print(f\"{i}: {token_id}\")\n",
    "    else:\n",
    "        print(\"None\")"
   ]
  },
  {
   "cell_type": "code",
   "execution_count": 8,
   "id": "931b77df-4ba7-4c7d-b945-8e0b191193ea",
   "metadata": {
    "tags": []
   },
   "outputs": [
    {
     "data": {
      "text/plain": [
       "Embedding(32107, 1024)"
      ]
     },
     "execution_count": 8,
     "metadata": {},
     "output_type": "execute_result"
    }
   ],
   "source": [
    "tokenizer.add_tokens(['<¬>', '<∀>', '<∃>', '<⊕>', '<→>', '<∧>', '<∨>'])\n",
    "model.resize_token_embeddings(len(tokenizer))"
   ]
  },
  {
   "cell_type": "code",
   "execution_count": 9,
   "id": "07e7f7a1-a345-40d3-b479-2e24421648fd",
   "metadata": {
    "tags": []
   },
   "outputs": [
    {
     "name": "stdout",
     "output_type": "stream",
     "text": [
      "Tokenizer length: 32107\n",
      "<¬> -> [32100]\n",
      "<∀> -> [32101]\n",
      "<∃> -> [32102]\n",
      "<⊕> -> [32103]\n",
      "<→> -> [32104]\n",
      "<∧> -> [32105]\n",
      "<∨> -> [32106]\n"
     ]
    }
   ],
   "source": [
    "print(\"Tokenizer length:\", len(tokenizer))\n",
    "for tok in symbol_ls:\n",
    "    print(tok, \"->\", tokenizer.encode(tok, add_special_tokens=False))"
   ]
  },
  {
   "cell_type": "code",
   "execution_count": 10,
   "id": "8c006471-5b05-47d6-a120-db56b13f29cf",
   "metadata": {
    "tags": []
   },
   "outputs": [],
   "source": [
    "replace_dict = {\n",
    "        '¬': 'No ',\n",
    "        '∀': 'For All ', \n",
    "        '∃': 'There Exists ', \n",
    "        '⊕': 'XOR ', \n",
    "        '→': 'implies', \n",
    "        '∧':'and', \n",
    "        '∨':'or'\n",
    "}\n",
    "\n",
    "FOL2NS_dataset[\"input\"] = FOL2NS_dataset[\"input\"].apply(lambda x: x.translate(str.maketrans(replace_dict)))    "
   ]
  },
  {
   "cell_type": "code",
   "execution_count": 11,
   "id": "146dc4cf-981a-46f7-891b-86fb6ec42711",
   "metadata": {
    "tags": []
   },
   "outputs": [
    {
     "data": {
      "text/html": [
       "<div>\n",
       "<style scoped>\n",
       "    .dataframe tbody tr th:only-of-type {\n",
       "        vertical-align: middle;\n",
       "    }\n",
       "\n",
       "    .dataframe tbody tr th {\n",
       "        vertical-align: top;\n",
       "    }\n",
       "\n",
       "    .dataframe thead th {\n",
       "        text-align: right;\n",
       "    }\n",
       "</style>\n",
       "<table border=\"1\" class=\"dataframe\">\n",
       "  <thead>\n",
       "    <tr style=\"text-align: right;\">\n",
       "      <th></th>\n",
       "      <th>input</th>\n",
       "      <th>output</th>\n",
       "    </tr>\n",
       "  </thead>\n",
       "  <tbody>\n",
       "    <tr>\n",
       "      <th>0</th>\n",
       "      <td>No WantToBeAddictedTo(rina, caffeine) or (No A...</td>\n",
       "      <td>Rina doesn't want to be addicted to caffeine o...</td>\n",
       "    </tr>\n",
       "    <tr>\n",
       "      <th>1</th>\n",
       "      <td>No WantToBeAddictedTo(rina, caffeine) XOR  No ...</td>\n",
       "      <td>Rina eith doesn't want to be addicted to caffe...</td>\n",
       "    </tr>\n",
       "    <tr>\n",
       "      <th>2</th>\n",
       "      <td>DrinkRegularly(rina, coffee)  XOR  IsUnawareTh...</td>\n",
       "      <td>Rina either regularly drinks coffee or is unaw...</td>\n",
       "    </tr>\n",
       "    <tr>\n",
       "      <th>3</th>\n",
       "      <td>(DoNotWantToBeAddictedToCaffeine(rina) XOR  No...</td>\n",
       "      <td>If Rina either doesn't want to be addicted to ...</td>\n",
       "    </tr>\n",
       "    <tr>\n",
       "      <th>4</th>\n",
       "      <td>Love(miroslav, music)</td>\n",
       "      <td>Miroslav Venhoda loved music.</td>\n",
       "    </tr>\n",
       "    <tr>\n",
       "      <th>...</th>\n",
       "      <td>...</td>\n",
       "      <td>...</td>\n",
       "    </tr>\n",
       "    <tr>\n",
       "      <th>3260</th>\n",
       "      <td>BornIn(ailtonSilva, year1995) and CommonlyKnow...</td>\n",
       "      <td>Ailton Silva, born in 1995, is commonly known ...</td>\n",
       "    </tr>\n",
       "    <tr>\n",
       "      <th>3261</th>\n",
       "      <td>FootballPlayer(ailton) and LoanedTo(ailton, br...</td>\n",
       "      <td>Ailton is a football player who was loaned out...</td>\n",
       "    </tr>\n",
       "    <tr>\n",
       "      <th>3262</th>\n",
       "      <td>Brazilian(ailtonSilva) and Footballplayer(ailt...</td>\n",
       "      <td>Ailton Silva is a Brazilian footballer who pla...</td>\n",
       "    </tr>\n",
       "    <tr>\n",
       "      <th>3263</th>\n",
       "      <td>FootballClub(nautico) and FootballClub(braga)</td>\n",
       "      <td>Náutico is a football club along with Braga.</td>\n",
       "    </tr>\n",
       "    <tr>\n",
       "      <th>3264</th>\n",
       "      <td>FootballClub(fluminense)</td>\n",
       "      <td>Fluminense is a football club.</td>\n",
       "    </tr>\n",
       "  </tbody>\n",
       "</table>\n",
       "<p>3265 rows × 2 columns</p>\n",
       "</div>"
      ],
      "text/plain": [
       "                                                  input  \\\n",
       "0     No WantToBeAddictedTo(rina, caffeine) or (No A...   \n",
       "1     No WantToBeAddictedTo(rina, caffeine) XOR  No ...   \n",
       "2     DrinkRegularly(rina, coffee)  XOR  IsUnawareTh...   \n",
       "3     (DoNotWantToBeAddictedToCaffeine(rina) XOR  No...   \n",
       "4                                 Love(miroslav, music)   \n",
       "...                                                 ...   \n",
       "3260  BornIn(ailtonSilva, year1995) and CommonlyKnow...   \n",
       "3261  FootballPlayer(ailton) and LoanedTo(ailton, br...   \n",
       "3262  Brazilian(ailtonSilva) and Footballplayer(ailt...   \n",
       "3263      FootballClub(nautico) and FootballClub(braga)   \n",
       "3264                           FootballClub(fluminense)   \n",
       "\n",
       "                                                 output  \n",
       "0     Rina doesn't want to be addicted to caffeine o...  \n",
       "1     Rina eith doesn't want to be addicted to caffe...  \n",
       "2     Rina either regularly drinks coffee or is unaw...  \n",
       "3     If Rina either doesn't want to be addicted to ...  \n",
       "4                         Miroslav Venhoda loved music.  \n",
       "...                                                 ...  \n",
       "3260  Ailton Silva, born in 1995, is commonly known ...  \n",
       "3261  Ailton is a football player who was loaned out...  \n",
       "3262  Ailton Silva is a Brazilian footballer who pla...  \n",
       "3263       Náutico is a football club along with Braga.  \n",
       "3264                     Fluminense is a football club.  \n",
       "\n",
       "[3265 rows x 2 columns]"
      ]
     },
     "execution_count": 11,
     "metadata": {},
     "output_type": "execute_result"
    }
   ],
   "source": [
    "FOL2NS_dataset"
   ]
  },
  {
   "cell_type": "code",
   "execution_count": 12,
   "id": "5c5a5d7c-00b4-4d0a-8110-bd663d79923c",
   "metadata": {
    "tags": []
   },
   "outputs": [
    {
     "data": {
      "text/html": [
       "<div>\n",
       "<style scoped>\n",
       "    .dataframe tbody tr th:only-of-type {\n",
       "        vertical-align: middle;\n",
       "    }\n",
       "\n",
       "    .dataframe tbody tr th {\n",
       "        vertical-align: top;\n",
       "    }\n",
       "\n",
       "    .dataframe thead th {\n",
       "        text-align: right;\n",
       "    }\n",
       "</style>\n",
       "<table border=\"1\" class=\"dataframe\">\n",
       "  <thead>\n",
       "    <tr style=\"text-align: right;\">\n",
       "      <th></th>\n",
       "      <th>FOL</th>\n",
       "      <th>FOL2NW</th>\n",
       "    </tr>\n",
       "  </thead>\n",
       "  <tbody>\n",
       "    <tr>\n",
       "      <th>0</th>\n",
       "      <td>∀ a ( A ( a ) ∧ ∀ b B ( b ) ⊕ ∃ c C ( c , d ) )</td>\n",
       "      <td>∀ a ( Mentors(a) ∧ ∀ district IsSpacious(distr...</td>\n",
       "    </tr>\n",
       "    <tr>\n",
       "      <th>1</th>\n",
       "      <td>∀ a ( ¬ A ( a ) ⊕ ¬ B ( a , b ) ∨ ¬ C ( a , c ) )</td>\n",
       "      <td>∀ a ( ¬ Studies(a) ⊕ ¬ Develops(a, bicycle) ∨ ...</td>\n",
       "    </tr>\n",
       "    <tr>\n",
       "      <th>2</th>\n",
       "      <td>∀ a ( A ( a ) → ∀ b ( ¬ B ( b , c ) ∨ ¬ C ( b ...</td>\n",
       "      <td>∀ a ( HasOfficeIn(a) → ∀ chef ( ¬ LivesIn(chef...</td>\n",
       "    </tr>\n",
       "    <tr>\n",
       "      <th>3</th>\n",
       "      <td>∀ a A ( a ) → ∀ b ¬ B ( b ) ∧ ∀ c ¬ C ( c )</td>\n",
       "      <td>∀ a Follows(a) → ∀ architect ¬ IsThoughtful(ar...</td>\n",
       "    </tr>\n",
       "    <tr>\n",
       "      <th>4</th>\n",
       "      <td>∀ a ( A ( a ) ∧ ∃ b ( ¬ B ( b ) ∨ ∃ c C ( c , ...</td>\n",
       "      <td>∀ a ( TravelsTo(a) ∧ ∃ man ( ¬ IsBusy(man) ∨ ∃...</td>\n",
       "    </tr>\n",
       "    <tr>\n",
       "      <th>...</th>\n",
       "      <td>...</td>\n",
       "      <td>...</td>\n",
       "    </tr>\n",
       "    <tr>\n",
       "      <th>3066</th>\n",
       "      <td>∀ a ( A ( a ) ⊕ ∀ b ( ¬ B ( b ) ∧ C ( b , c ) ) )</td>\n",
       "      <td>∀ a ( IsRich(a) ⊕ ∀ strategist ( ¬ IsPoor(stra...</td>\n",
       "    </tr>\n",
       "    <tr>\n",
       "      <th>3067</th>\n",
       "      <td>∀ a ( A ( a ) → ∀ b ( B ( b ) ⊕ ∀ c C ( c ) ) )</td>\n",
       "      <td>∀ a ( IsSpacious(a) → ∀ photographer ( Influen...</td>\n",
       "    </tr>\n",
       "    <tr>\n",
       "      <th>3068</th>\n",
       "      <td>A ( a ) ∨ B ( b , c )</td>\n",
       "      <td>IsSad(researcher) ∨ IsGenerous(pilot, c)</td>\n",
       "    </tr>\n",
       "    <tr>\n",
       "      <th>3069</th>\n",
       "      <td>∀ a ( A ( a ) ∨ ∀ b ( ¬ B ( b , c ) ⊕ ¬ C ( b ...</td>\n",
       "      <td>∀ a ( Mentors(a) ∨ ∀ institute ( ¬ IsArtist(in...</td>\n",
       "    </tr>\n",
       "    <tr>\n",
       "      <th>3070</th>\n",
       "      <td>∀ a ( A ( a ) → ∃ b B ( b ) ∨ ∃ c ¬ C ( c ) )</td>\n",
       "      <td>∀ a ( IsSad(a) → ∃ investor CooperatesWith(inv...</td>\n",
       "    </tr>\n",
       "  </tbody>\n",
       "</table>\n",
       "<p>3071 rows × 2 columns</p>\n",
       "</div>"
      ],
      "text/plain": [
       "                                                    FOL  \\\n",
       "0       ∀ a ( A ( a ) ∧ ∀ b B ( b ) ⊕ ∃ c C ( c , d ) )   \n",
       "1     ∀ a ( ¬ A ( a ) ⊕ ¬ B ( a , b ) ∨ ¬ C ( a , c ) )   \n",
       "2     ∀ a ( A ( a ) → ∀ b ( ¬ B ( b , c ) ∨ ¬ C ( b ...   \n",
       "3           ∀ a A ( a ) → ∀ b ¬ B ( b ) ∧ ∀ c ¬ C ( c )   \n",
       "4     ∀ a ( A ( a ) ∧ ∃ b ( ¬ B ( b ) ∨ ∃ c C ( c , ...   \n",
       "...                                                 ...   \n",
       "3066  ∀ a ( A ( a ) ⊕ ∀ b ( ¬ B ( b ) ∧ C ( b , c ) ) )   \n",
       "3067    ∀ a ( A ( a ) → ∀ b ( B ( b ) ⊕ ∀ c C ( c ) ) )   \n",
       "3068                              A ( a ) ∨ B ( b , c )   \n",
       "3069  ∀ a ( A ( a ) ∨ ∀ b ( ¬ B ( b , c ) ⊕ ¬ C ( b ...   \n",
       "3070      ∀ a ( A ( a ) → ∃ b B ( b ) ∨ ∃ c ¬ C ( c ) )   \n",
       "\n",
       "                                                 FOL2NW  \n",
       "0     ∀ a ( Mentors(a) ∧ ∀ district IsSpacious(distr...  \n",
       "1     ∀ a ( ¬ Studies(a) ⊕ ¬ Develops(a, bicycle) ∨ ...  \n",
       "2     ∀ a ( HasOfficeIn(a) → ∀ chef ( ¬ LivesIn(chef...  \n",
       "3     ∀ a Follows(a) → ∀ architect ¬ IsThoughtful(ar...  \n",
       "4     ∀ a ( TravelsTo(a) ∧ ∃ man ( ¬ IsBusy(man) ∨ ∃...  \n",
       "...                                                 ...  \n",
       "3066  ∀ a ( IsRich(a) ⊕ ∀ strategist ( ¬ IsPoor(stra...  \n",
       "3067  ∀ a ( IsSpacious(a) → ∀ photographer ( Influen...  \n",
       "3068           IsSad(researcher) ∨ IsGenerous(pilot, c)  \n",
       "3069  ∀ a ( Mentors(a) ∨ ∀ institute ( ¬ IsArtist(in...  \n",
       "3070  ∀ a ( IsSad(a) → ∃ investor CooperatesWith(inv...  \n",
       "\n",
       "[3071 rows x 2 columns]"
      ]
     },
     "execution_count": 12,
     "metadata": {},
     "output_type": "execute_result"
    }
   ],
   "source": [
    "FOL2NW_with_predicate"
   ]
  },
  {
   "cell_type": "code",
   "execution_count": 13,
   "id": "c6744178-9cff-49d7-a37d-9936e5430689",
   "metadata": {},
   "outputs": [],
   "source": [
    "Train, Dev = train_test_split(FOL2NS_dataset, test_size=0.2, random_state=30, shuffle=True)\n",
    "X_train, Y_train = Train['input'].tolist(), Train['output'].tolist()\n",
    "X_dev, Y_dev = Dev['input'].tolist(), Dev['output'].tolist()"
   ]
  },
  {
   "cell_type": "code",
   "execution_count": 14,
   "id": "90304c84-8beb-4784-b745-87488ebcb319",
   "metadata": {},
   "outputs": [],
   "source": [
    "def tokenized_text(text):\n",
    "  tokenization = tokenizer(text, return_tensors=\"pt\", padding=True, truncation=True, max_length=512)\n",
    "  return tokenization.input_ids\n",
    "\n",
    "x_train = tokenized_text(X_train)\n",
    "y_train = tokenized_text(Y_train)\n",
    "x_dev = tokenized_text(X_dev)\n",
    "y_dev = tokenized_text(Y_dev)\n",
    "\n",
    "y_train[y_train == tokenizer.pad_token_id] = -100\n",
    "y_dev[y_dev == tokenizer.pad_token_id] = -100"
   ]
  },
  {
   "cell_type": "markdown",
   "id": "f3e46c8a-3033-4a04-b969-9a910259fbbb",
   "metadata": {},
   "source": [
    "## Training stage"
   ]
  },
  {
   "cell_type": "code",
   "execution_count": 15,
   "id": "b0237f7c-19ba-4e91-b886-755cfc317d82",
   "metadata": {},
   "outputs": [],
   "source": [
    "def train(train_loader, model, optim, device=\"cuda\"):\n",
    "    model.train()\n",
    "    train_loss = []\n",
    "\n",
    "    for input_ids, labels in tqdm(train_loader, leave=False):\n",
    "        optim.zero_grad()\n",
    "        input_ids = input_ids.to(device)\n",
    "        labels = labels.to(device)\n",
    "        \n",
    "        pred_output = model(input_ids=input_ids, labels=labels)\n",
    "       \n",
    "        loss = pred_output.loss\n",
    "        loss.backward()\n",
    "        optim.step()\n",
    "\n",
    "        train_loss.append(loss.item())\n",
    "\n",
    "    return torch.tensor(train_loss).cpu()"
   ]
  },
  {
   "cell_type": "code",
   "execution_count": 16,
   "id": "dae74b44-649d-4263-878f-0af77ab842cb",
   "metadata": {},
   "outputs": [],
   "source": [
    "def validate(dev_loader, model, ifgenerate=True, device=\"cuda\"):\n",
    "    model.eval()\n",
    "    dev_loss = []\n",
    "    token_list=[]\n",
    "    text_list=[]\n",
    "\n",
    "    with torch.no_grad():\n",
    "        for input_dev_ids, dev_labels in tqdm(dev_loader, leave=False):\n",
    "            input_dev_ids = input_dev_ids.to(device)\n",
    "            dev_labels = dev_labels.to(device)\n",
    "            \n",
    "            output = model(input_ids=input_dev_ids, labels=dev_labels)\n",
    "            dev_loss.append(output.loss.item())\n",
    "            \n",
    "            if ifgenerate:\n",
    "                # generated_tokens = model.generate(input_dev_ids)\n",
    "                generated_tokens = model.generate(\n",
    "                                        input_dev_ids, \n",
    "                                        pad_token_id=tokenizer.pad_token_id, \n",
    "                                        eos_token_id=tokenizer.eos_token_id,\n",
    "                                        num_beams=5,\n",
    "                                        repetition_penalty=1, \n",
    "                                        no_repeat_ngram_size=2,\n",
    "                                        max_length=64,\n",
    "                                        early_stopping=True)\n",
    "\n",
    "                generated_text = tokenizer.batch_decode(generated_tokens, skip_special_tokens=True)\n",
    "                for to in generated_tokens:\n",
    "                    token_list.append(to.tolist())\n",
    "                text_list.extend(generated_text)\n",
    "\n",
    "    if ifgenerate:\n",
    "        return sum(dev_loss) / len(dev_loss), token_list, text_list\n",
    "    \n",
    "    return sum(dev_loss) / len(dev_loss), None, None"
   ]
  },
  {
   "cell_type": "code",
   "execution_count": 17,
   "id": "351a3435-6f7d-4c45-bcc7-5b00e4725d10",
   "metadata": {},
   "outputs": [],
   "source": [
    "from torch.utils.data import TensorDataset, DataLoader\n",
    "\n",
    "train_dataset = TensorDataset(x_train, y_train)\n",
    "dev_dataset = TensorDataset(x_dev, y_dev)\n",
    "\n",
    "train_loader = DataLoader(train_dataset, batch_size=8, shuffle=True, num_workers=1, pin_memory=True)\n",
    "dev_loader = DataLoader(dev_dataset, batch_size=8, shuffle=False, num_workers=1, pin_memory=True)"
   ]
  },
  {
   "cell_type": "code",
   "execution_count": 18,
   "id": "9e1fa216-d150-45b0-a780-dde2274456cc",
   "metadata": {
    "tags": []
   },
   "outputs": [],
   "source": [
    "def main(n_epochs, batch_size, lr, ifgenerate=True):\n",
    "    optim = torch.optim.AdamW(model.parameters(), lr=lr)\n",
    "    lr_string = abs(int(log10(lr)))\n",
    "    \n",
    "    train_losses = []\n",
    "    dev_losses = []\n",
    "    dev_tokens = []\n",
    "    dev_text = []\n",
    "    test_tokens = []\n",
    "    test_text = []\n",
    "    \n",
    "    min_dev_loss = float(\"inf\")\n",
    "    last_epoch_with_dev_improvement = 0\n",
    "    early_stopping_threshold = 50\n",
    "\n",
    "    for epoch_n in tqdm(range(n_epochs)):\n",
    "        train_loss = train(train_loader, model, optim)\n",
    "        train_losses.append(train_loss.mean().item())\n",
    "        \n",
    "        if (epoch_n + 1) % 10 == 0:\n",
    "            dev_loss, dev_token_list, dev_text_list = validate(dev_loader, model, ifgenerate)\n",
    "            dev_losses.append(dev_loss)\n",
    "\n",
    "            if ifgenerate:\n",
    "                dev_tokens += dev_token_list\n",
    "                dev_text.extend(dev_text_list)\n",
    "\n",
    "            print(f'Epoch {epoch_n+1}, train loss: {train_loss.mean().item():.3f}, dev loss: {dev_loss:.3f}')\n",
    "\n",
    "            if dev_loss < min_dev_loss:\n",
    "                print('Saving the model')\n",
    "                min_dev_loss = dev_loss\n",
    "                last_epoch_with_dev_improvement = epoch_n\n",
    "\n",
    "                for path in glob('*.pt'):\n",
    "                    os.remove(path)\n",
    "                torch.save(model.state_dict(), f'checkpoint_{batch_size}_{lr_string}.pt')\n",
    "            else:\n",
    "                if epoch_n - last_epoch_with_dev_improvement >= early_stopping_threshold:\n",
    "                    print(f'Early stopping: no improvement for {early_stopping_threshold} epochs.')\n",
    "                    break\n",
    "          \n",
    "    plt.plot(train_losses, label='Train Loss')\n",
    "    plt.xlabel(\"Epochs\")\n",
    "    plt.ylabel(\"Loss\")\n",
    "    plt.show()\n",
    "    \n",
    "    plt.plot(dev_losses, label='Dev Loss')\n",
    "    plt.xlabel(\"10x Epochs\")\n",
    "    plt.ylabel(\"Loss\")\n",
    "    plt.show()\n",
    "    \n",
    "    # test_tokens, test_texts = test(model, test_loader, device=\"cuda:1\")\n",
    "    \n",
    "    if ifgenerate:\n",
    "        return train_losses, dev_losses, dev_tokens, dev_text#, test_tokens, test_texts\n",
    "    return train_losses, dev_losses, None, None#, test_tokens, test_texts"
   ]
  },
  {
   "cell_type": "code",
   "execution_count": 19,
   "id": "ee792b2a-74c1-4818-8927-a8c6a2219b20",
   "metadata": {
    "tags": []
   },
   "outputs": [],
   "source": [
    "FOL2NW_with_predicate[\"FOL2NW\"] = FOL2NW_with_predicate[\"FOL2NW\"].apply(lambda x: x.translate(str.maketrans(replace_dict))) "
   ]
  },
  {
   "cell_type": "code",
   "execution_count": 20,
   "id": "80315ff1-6845-4330-aa75-2c0d2ff0b098",
   "metadata": {
    "tags": []
   },
   "outputs": [
    {
     "data": {
      "text/html": [
       "<div>\n",
       "<style scoped>\n",
       "    .dataframe tbody tr th:only-of-type {\n",
       "        vertical-align: middle;\n",
       "    }\n",
       "\n",
       "    .dataframe tbody tr th {\n",
       "        vertical-align: top;\n",
       "    }\n",
       "\n",
       "    .dataframe thead th {\n",
       "        text-align: right;\n",
       "    }\n",
       "</style>\n",
       "<table border=\"1\" class=\"dataframe\">\n",
       "  <thead>\n",
       "    <tr style=\"text-align: right;\">\n",
       "      <th></th>\n",
       "      <th>FOL</th>\n",
       "      <th>FOL2NW</th>\n",
       "    </tr>\n",
       "  </thead>\n",
       "  <tbody>\n",
       "    <tr>\n",
       "      <th>0</th>\n",
       "      <td>∀ a ( A ( a ) ∧ ∀ b B ( b ) ⊕ ∃ c C ( c , d ) )</td>\n",
       "      <td>For All  a ( Mentors(a) and For All  district ...</td>\n",
       "    </tr>\n",
       "    <tr>\n",
       "      <th>1</th>\n",
       "      <td>∀ a ( ¬ A ( a ) ⊕ ¬ B ( a , b ) ∨ ¬ C ( a , c ) )</td>\n",
       "      <td>For All  a ( No  Studies(a) XOR  No  Develops(...</td>\n",
       "    </tr>\n",
       "    <tr>\n",
       "      <th>2</th>\n",
       "      <td>∀ a ( A ( a ) → ∀ b ( ¬ B ( b , c ) ∨ ¬ C ( b ...</td>\n",
       "      <td>For All  a ( HasOfficeIn(a) implies For All  c...</td>\n",
       "    </tr>\n",
       "    <tr>\n",
       "      <th>3</th>\n",
       "      <td>∀ a A ( a ) → ∀ b ¬ B ( b ) ∧ ∀ c ¬ C ( c )</td>\n",
       "      <td>For All  a Follows(a) implies For All  archite...</td>\n",
       "    </tr>\n",
       "    <tr>\n",
       "      <th>4</th>\n",
       "      <td>∀ a ( A ( a ) ∧ ∃ b ( ¬ B ( b ) ∨ ∃ c C ( c , ...</td>\n",
       "      <td>For All  a ( TravelsTo(a) and There Exists  ma...</td>\n",
       "    </tr>\n",
       "    <tr>\n",
       "      <th>...</th>\n",
       "      <td>...</td>\n",
       "      <td>...</td>\n",
       "    </tr>\n",
       "    <tr>\n",
       "      <th>3066</th>\n",
       "      <td>∀ a ( A ( a ) ⊕ ∀ b ( ¬ B ( b ) ∧ C ( b , c ) ) )</td>\n",
       "      <td>For All  a ( IsRich(a) XOR  For All  strategis...</td>\n",
       "    </tr>\n",
       "    <tr>\n",
       "      <th>3067</th>\n",
       "      <td>∀ a ( A ( a ) → ∀ b ( B ( b ) ⊕ ∀ c C ( c ) ) )</td>\n",
       "      <td>For All  a ( IsSpacious(a) implies For All  ph...</td>\n",
       "    </tr>\n",
       "    <tr>\n",
       "      <th>3068</th>\n",
       "      <td>A ( a ) ∨ B ( b , c )</td>\n",
       "      <td>IsSad(researcher) or IsGenerous(pilot, c)</td>\n",
       "    </tr>\n",
       "    <tr>\n",
       "      <th>3069</th>\n",
       "      <td>∀ a ( A ( a ) ∨ ∀ b ( ¬ B ( b , c ) ⊕ ¬ C ( b ...</td>\n",
       "      <td>For All  a ( Mentors(a) or For All  institute ...</td>\n",
       "    </tr>\n",
       "    <tr>\n",
       "      <th>3070</th>\n",
       "      <td>∀ a ( A ( a ) → ∃ b B ( b ) ∨ ∃ c ¬ C ( c ) )</td>\n",
       "      <td>For All  a ( IsSad(a) implies There Exists  in...</td>\n",
       "    </tr>\n",
       "  </tbody>\n",
       "</table>\n",
       "<p>3071 rows × 2 columns</p>\n",
       "</div>"
      ],
      "text/plain": [
       "                                                    FOL  \\\n",
       "0       ∀ a ( A ( a ) ∧ ∀ b B ( b ) ⊕ ∃ c C ( c , d ) )   \n",
       "1     ∀ a ( ¬ A ( a ) ⊕ ¬ B ( a , b ) ∨ ¬ C ( a , c ) )   \n",
       "2     ∀ a ( A ( a ) → ∀ b ( ¬ B ( b , c ) ∨ ¬ C ( b ...   \n",
       "3           ∀ a A ( a ) → ∀ b ¬ B ( b ) ∧ ∀ c ¬ C ( c )   \n",
       "4     ∀ a ( A ( a ) ∧ ∃ b ( ¬ B ( b ) ∨ ∃ c C ( c , ...   \n",
       "...                                                 ...   \n",
       "3066  ∀ a ( A ( a ) ⊕ ∀ b ( ¬ B ( b ) ∧ C ( b , c ) ) )   \n",
       "3067    ∀ a ( A ( a ) → ∀ b ( B ( b ) ⊕ ∀ c C ( c ) ) )   \n",
       "3068                              A ( a ) ∨ B ( b , c )   \n",
       "3069  ∀ a ( A ( a ) ∨ ∀ b ( ¬ B ( b , c ) ⊕ ¬ C ( b ...   \n",
       "3070      ∀ a ( A ( a ) → ∃ b B ( b ) ∨ ∃ c ¬ C ( c ) )   \n",
       "\n",
       "                                                 FOL2NW  \n",
       "0     For All  a ( Mentors(a) and For All  district ...  \n",
       "1     For All  a ( No  Studies(a) XOR  No  Develops(...  \n",
       "2     For All  a ( HasOfficeIn(a) implies For All  c...  \n",
       "3     For All  a Follows(a) implies For All  archite...  \n",
       "4     For All  a ( TravelsTo(a) and There Exists  ma...  \n",
       "...                                                 ...  \n",
       "3066  For All  a ( IsRich(a) XOR  For All  strategis...  \n",
       "3067  For All  a ( IsSpacious(a) implies For All  ph...  \n",
       "3068          IsSad(researcher) or IsGenerous(pilot, c)  \n",
       "3069  For All  a ( Mentors(a) or For All  institute ...  \n",
       "3070  For All  a ( IsSad(a) implies There Exists  in...  \n",
       "\n",
       "[3071 rows x 2 columns]"
      ]
     },
     "execution_count": 20,
     "metadata": {},
     "output_type": "execute_result"
    }
   ],
   "source": [
    "FOL2NW_with_predicate"
   ]
  },
  {
   "cell_type": "code",
   "execution_count": 21,
   "id": "54902c17-3113-43d7-b53a-09347cc5b377",
   "metadata": {
    "tags": []
   },
   "outputs": [],
   "source": [
    "X_test = FOL2NW_with_predicate['FOL2NW'].tolist()\n",
    "x_test = tokenized_text(X_test)\n",
    "\n",
    "test_dataset = TensorDataset(x_test)\n",
    "test_loader = DataLoader(test_dataset, batch_size=8, shuffle=False, num_workers=1, pin_memory=True)"
   ]
  },
  {
   "cell_type": "code",
   "execution_count": 30,
   "id": "1952b823-7491-4bb4-90b2-4d18c8c2cfe6",
   "metadata": {
    "tags": []
   },
   "outputs": [],
   "source": [
    "torch.cuda.empty_cache()"
   ]
  },
  {
   "cell_type": "code",
   "execution_count": 22,
   "id": "0327e188-2846-4748-b0f4-360d47d9c916",
   "metadata": {
    "tags": []
   },
   "outputs": [
    {
     "data": {
      "application/vnd.jupyter.widget-view+json": {
       "model_id": "8d41f7d7f3804abcb67bcd1234ded708",
       "version_major": 2,
       "version_minor": 0
      },
      "text/plain": [
       "  0%|          | 0/20 [00:00<?, ?it/s]"
      ]
     },
     "metadata": {},
     "output_type": "display_data"
    },
    {
     "data": {
      "application/vnd.jupyter.widget-view+json": {
       "model_id": "",
       "version_major": 2,
       "version_minor": 0
      },
      "text/plain": [
       "  0%|          | 0/327 [00:00<?, ?it/s]"
      ]
     },
     "metadata": {},
     "output_type": "display_data"
    },
    {
     "name": "stderr",
     "output_type": "stream",
     "text": [
      "Passing a tuple of `past_key_values` is deprecated and will be removed in Transformers v4.48.0. You should pass an instance of `EncoderDecoderCache` instead, e.g. `past_key_values=EncoderDecoderCache.from_legacy_cache(past_key_values)`.\n"
     ]
    },
    {
     "data": {
      "application/vnd.jupyter.widget-view+json": {
       "model_id": "",
       "version_major": 2,
       "version_minor": 0
      },
      "text/plain": [
       "  0%|          | 0/327 [00:00<?, ?it/s]"
      ]
     },
     "metadata": {},
     "output_type": "display_data"
    },
    {
     "data": {
      "application/vnd.jupyter.widget-view+json": {
       "model_id": "",
       "version_major": 2,
       "version_minor": 0
      },
      "text/plain": [
       "  0%|          | 0/327 [00:00<?, ?it/s]"
      ]
     },
     "metadata": {},
     "output_type": "display_data"
    },
    {
     "data": {
      "application/vnd.jupyter.widget-view+json": {
       "model_id": "",
       "version_major": 2,
       "version_minor": 0
      },
      "text/plain": [
       "  0%|          | 0/327 [00:00<?, ?it/s]"
      ]
     },
     "metadata": {},
     "output_type": "display_data"
    },
    {
     "data": {
      "application/vnd.jupyter.widget-view+json": {
       "model_id": "",
       "version_major": 2,
       "version_minor": 0
      },
      "text/plain": [
       "  0%|          | 0/327 [00:00<?, ?it/s]"
      ]
     },
     "metadata": {},
     "output_type": "display_data"
    },
    {
     "data": {
      "application/vnd.jupyter.widget-view+json": {
       "model_id": "",
       "version_major": 2,
       "version_minor": 0
      },
      "text/plain": [
       "  0%|          | 0/327 [00:00<?, ?it/s]"
      ]
     },
     "metadata": {},
     "output_type": "display_data"
    },
    {
     "data": {
      "application/vnd.jupyter.widget-view+json": {
       "model_id": "",
       "version_major": 2,
       "version_minor": 0
      },
      "text/plain": [
       "  0%|          | 0/327 [00:00<?, ?it/s]"
      ]
     },
     "metadata": {},
     "output_type": "display_data"
    },
    {
     "data": {
      "application/vnd.jupyter.widget-view+json": {
       "model_id": "",
       "version_major": 2,
       "version_minor": 0
      },
      "text/plain": [
       "  0%|          | 0/327 [00:00<?, ?it/s]"
      ]
     },
     "metadata": {},
     "output_type": "display_data"
    },
    {
     "data": {
      "application/vnd.jupyter.widget-view+json": {
       "model_id": "",
       "version_major": 2,
       "version_minor": 0
      },
      "text/plain": [
       "  0%|          | 0/327 [00:00<?, ?it/s]"
      ]
     },
     "metadata": {},
     "output_type": "display_data"
    },
    {
     "data": {
      "application/vnd.jupyter.widget-view+json": {
       "model_id": "",
       "version_major": 2,
       "version_minor": 0
      },
      "text/plain": [
       "  0%|          | 0/327 [00:00<?, ?it/s]"
      ]
     },
     "metadata": {},
     "output_type": "display_data"
    },
    {
     "data": {
      "application/vnd.jupyter.widget-view+json": {
       "model_id": "",
       "version_major": 2,
       "version_minor": 0
      },
      "text/plain": [
       "  0%|          | 0/82 [00:00<?, ?it/s]"
      ]
     },
     "metadata": {},
     "output_type": "display_data"
    },
    {
     "name": "stdout",
     "output_type": "stream",
     "text": [
      "Epoch 10, train loss: 0.081, dev loss: 0.943\n",
      "Saving the model\n"
     ]
    },
    {
     "data": {
      "application/vnd.jupyter.widget-view+json": {
       "model_id": "",
       "version_major": 2,
       "version_minor": 0
      },
      "text/plain": [
       "  0%|          | 0/327 [00:00<?, ?it/s]"
      ]
     },
     "metadata": {},
     "output_type": "display_data"
    },
    {
     "data": {
      "application/vnd.jupyter.widget-view+json": {
       "model_id": "",
       "version_major": 2,
       "version_minor": 0
      },
      "text/plain": [
       "  0%|          | 0/327 [00:00<?, ?it/s]"
      ]
     },
     "metadata": {},
     "output_type": "display_data"
    },
    {
     "data": {
      "application/vnd.jupyter.widget-view+json": {
       "model_id": "",
       "version_major": 2,
       "version_minor": 0
      },
      "text/plain": [
       "  0%|          | 0/327 [00:00<?, ?it/s]"
      ]
     },
     "metadata": {},
     "output_type": "display_data"
    },
    {
     "data": {
      "application/vnd.jupyter.widget-view+json": {
       "model_id": "",
       "version_major": 2,
       "version_minor": 0
      },
      "text/plain": [
       "  0%|          | 0/327 [00:00<?, ?it/s]"
      ]
     },
     "metadata": {},
     "output_type": "display_data"
    },
    {
     "data": {
      "application/vnd.jupyter.widget-view+json": {
       "model_id": "",
       "version_major": 2,
       "version_minor": 0
      },
      "text/plain": [
       "  0%|          | 0/327 [00:00<?, ?it/s]"
      ]
     },
     "metadata": {},
     "output_type": "display_data"
    },
    {
     "data": {
      "application/vnd.jupyter.widget-view+json": {
       "model_id": "",
       "version_major": 2,
       "version_minor": 0
      },
      "text/plain": [
       "  0%|          | 0/327 [00:00<?, ?it/s]"
      ]
     },
     "metadata": {},
     "output_type": "display_data"
    },
    {
     "data": {
      "application/vnd.jupyter.widget-view+json": {
       "model_id": "",
       "version_major": 2,
       "version_minor": 0
      },
      "text/plain": [
       "  0%|          | 0/327 [00:00<?, ?it/s]"
      ]
     },
     "metadata": {},
     "output_type": "display_data"
    },
    {
     "data": {
      "application/vnd.jupyter.widget-view+json": {
       "model_id": "",
       "version_major": 2,
       "version_minor": 0
      },
      "text/plain": [
       "  0%|          | 0/327 [00:00<?, ?it/s]"
      ]
     },
     "metadata": {},
     "output_type": "display_data"
    },
    {
     "data": {
      "application/vnd.jupyter.widget-view+json": {
       "model_id": "",
       "version_major": 2,
       "version_minor": 0
      },
      "text/plain": [
       "  0%|          | 0/327 [00:00<?, ?it/s]"
      ]
     },
     "metadata": {},
     "output_type": "display_data"
    },
    {
     "data": {
      "application/vnd.jupyter.widget-view+json": {
       "model_id": "",
       "version_major": 2,
       "version_minor": 0
      },
      "text/plain": [
       "  0%|          | 0/327 [00:00<?, ?it/s]"
      ]
     },
     "metadata": {},
     "output_type": "display_data"
    },
    {
     "data": {
      "application/vnd.jupyter.widget-view+json": {
       "model_id": "",
       "version_major": 2,
       "version_minor": 0
      },
      "text/plain": [
       "  0%|          | 0/82 [00:00<?, ?it/s]"
      ]
     },
     "metadata": {},
     "output_type": "display_data"
    },
    {
     "name": "stdout",
     "output_type": "stream",
     "text": [
      "Epoch 20, train loss: 0.030, dev loss: 1.105\n"
     ]
    },
    {
     "data": {
      "image/png": "[encoded data removed]",
      "text/plain": [
       "<Figure size 640x480 with 1 Axes>"
      ]
     },
     "metadata": {},
     "output_type": "display_data"
    },
    {
     "data": {
      "image/png": "[encoded data removed]",
      "text/plain": [
       "<Figure size 640x480 with 1 Axes>"
      ]
     },
     "metadata": {},
     "output_type": "display_data"
    }
   ],
   "source": [
    "train_losses, dev_losses, dev_tokens, dev_text= main(n_epochs=20, batch_size=8, lr=10**(-4))"
   ]
  },
  {
   "cell_type": "markdown",
   "id": "c3925745-fbbc-48f1-b66a-62fbdb27e12e",
   "metadata": {},
   "source": [
    "## Evaluation on Validation set"
   ]
  },
  {
   "cell_type": "code",
   "execution_count": null,
   "id": "8d5eb49f-87a0-48d2-9d59-455158c4ca31",
   "metadata": {},
   "outputs": [],
   "source": [
    "input_text = X_dev\n",
    "gold_text = Y_dev"
   ]
  },
  {
   "cell_type": "code",
   "execution_count": null,
   "id": "3dca0bc4-0e57-4c72-a770-1492f9db286a",
   "metadata": {},
   "outputs": [],
   "source": [
    "def minDistance(token1, token2):\n",
    "    dp = [[0] * (len(token2)+1) for _ in range(len(token1)+1)]\n",
    "\n",
    "    for i in range(len(token1)+1):\n",
    "        dp[i][0]=i\n",
    "    for j in range(len(token2)+1):\n",
    "        dp[0][j]=j\n",
    "\n",
    "    for i in range(1, len(token1)+1):\n",
    "        for j in range(1, len(token2)+1):\n",
    "            if token1[i-1] == token2[j-1]:\n",
    "                dp[i][j] = dp[i-1][j-1]\n",
    "            else:\n",
    "                v1 = dp[i-1][j]\n",
    "                v2 = dp[i][j-1]\n",
    "                v3 = dp[i-1][j-1]\n",
    "                min_value = min(v1, v2, v3)+1\n",
    "                dp[i][j] = min_value\n",
    "\n",
    "    return dp[len(token1)][len(token2)]"
   ]
  },
  {
   "cell_type": "code",
   "execution_count": null,
   "id": "7c3ed378-4400-461f-aacc-ba891683d8eb",
   "metadata": {},
   "outputs": [],
   "source": [
    "def evaluation_with_minDistance(pred_dataset, gold_dataset, distance_fn, normalize=True, filter_empty=True):\n",
    "    total_minDis = 0\n",
    "    total_score = 0\n",
    "    count = 0\n",
    "    skipped = 0\n",
    "\n",
    "    for pred, gold in zip(pred_dataset, gold_dataset):\n",
    "        pred = str(pred).strip()\n",
    "        gold = str(gold).strip()\n",
    "\n",
    "        if filter_empty:\n",
    "            if not pred or not gold or all(token in [\"<pad>\", \"\"] for token in pred.split()):\n",
    "                skipped += 1\n",
    "                continue\n",
    "\n",
    "        dis = distance_fn(pred, gold)\n",
    "        total_minDis += dis\n",
    "\n",
    "        if normalize:\n",
    "            base_len = max(len(pred.split()), len(gold.split()))\n",
    "            score = dis / base_len if base_len > 0 else 0\n",
    "            total_score += score\n",
    "        else:\n",
    "            total_score += dis\n",
    "\n",
    "        count += 1\n",
    "\n",
    "    avg_dist = total_minDis / count if count > 0 else float(\"inf\")\n",
    "    avg_score = total_score / count if count > 0 else float(\"inf\")\n",
    "\n",
    "    print(f\"Total samples: {len(pred_dataset)}, evaluated: {count}, skipped: {skipped}\")\n",
    "    return avg_dist, avg_score"
   ]
  },
  {
   "cell_type": "code",
   "execution_count": null,
   "id": "45acd3fe-ad83-402b-8381-3bc7a6a87a9f",
   "metadata": {},
   "outputs": [],
   "source": [
    "def get_ngrams(sentence_toks,n):\n",
    "  ngrams = defaultdict(int)  \n",
    "  for i in range(0,len(sentence_toks)-(n-1)):\n",
    "    ngrams[str.join(\" \",sentence_toks[i:i+n])]+=1\n",
    "  return(ngrams)"
   ]
  },
  {
   "cell_type": "code",
   "execution_count": null,
   "id": "d85f4742-ebec-4ffa-aad6-eeee884de00a",
   "metadata": {},
   "outputs": [],
   "source": [
    "def get_clipped_counts(h,r,n):\n",
    "    counts = get_ngrams(h, n)\n",
    "    reference_counts = get_ngrams(r, n)\n",
    "    clipped_counts = [min(count, reference_counts[ngram]) for ngram, count in counts.items()]\n",
    "    return sum(clipped_counts)/(sum(counts.values())+0.001)"
   ]
  },
  {
   "cell_type": "code",
   "execution_count": null,
   "id": "ed382493-c28d-470f-b328-dae988f9777b",
   "metadata": {},
   "outputs": [],
   "source": [
    "def compute_bleu(h, r, n):\n",
    "    precisions = [get_clipped_counts(h, r, n) for n in range(1, n+1)]\n",
    "    log_precisions = [np.log(p) if p > 0 else -9999 for p in precisions] \n",
    "    bleu = brevity_penalty(h, r) * np.exp(sum(log_precisions) / n)\n",
    "    return bleu"
   ]
  },
  {
   "cell_type": "code",
   "execution_count": null,
   "id": "31f77ca0-c86e-4029-aed3-6771db21ffd6",
   "metadata": {},
   "outputs": [],
   "source": [
    "def brevity_penalty(h, r):\n",
    "    return float(min(1,np.exp(1-len(r)/(len(h)+0.001))))"
   ]
  },
  {
   "cell_type": "code",
   "execution_count": null,
   "id": "3671e6d6-18ab-473c-8ed0-4edbecd64014",
   "metadata": {},
   "outputs": [],
   "source": [
    "def final_result(text, gold_text):\n",
    "    avg_dist, avg_score = evaluation_with_minDistance(text, gold_text, minDistance, normalize=True)\n",
    "    bleu_scores = [compute_bleu(h.split(), r.split(),1) for h, r in zip(text, gold_text)]\n",
    "    print(f\"Average Distance:{avg_dist}; Average Score:{avg_score}\")\n",
    "    print(f\"Average BLEU:{sum(bleu_scores) / len(bleu_scores)}\")\n",
    "\n",
    "    print(\"\\nThe first five samples:\")\n",
    "    for i in range(5):\n",
    "        print(\"Input:\", input_text[i])\n",
    "        print(\"Output:\", text[i])\n",
    "        print(\"Target:\", gold_text[i])\n",
    "        print(\"Distance:\", minDistance(text[i], gold_text[i]))\n",
    "        print(\"BLEU:\",compute_bleu(text[i], gold_text[i], 1),\"\\n\")"
   ]
  },
  {
   "cell_type": "code",
   "execution_count": 28,
   "id": "c2f3085d-31a3-4760-b6bb-054dfb7c4f69",
   "metadata": {
    "tags": []
   },
   "outputs": [
    {
     "name": "stdout",
     "output_type": "stream",
     "text": [
      "Total samples: 1306, evaluated: 652, skipped: 1\n",
      "Average Distance:20.17484662576687; Average Score:1.459699179917049\n",
      "Average BLEU:0.6693269301597455\n",
      "\n",
      "The first five samples:\n",
      "Input: No Musician(dan)\n",
      "Output: Dan is not a musician.\n",
      "Target: Dan is not a musician.\n",
      "Distance: 0\n",
      "BLEU: 0.9999545475205672 \n",
      "\n",
      "Input: For All x For All y (Student(x) and GetGradeIn(x, a, englishClass) implies EnglishClassScore(x, y) and GreaterThan90(y) and LowerThan95(y)) \n",
      "Output: If a student gets an A in English class, then his score is greater than 90 and lower than 95.\n",
      "Target: If a student gets an A in English class, then his score is greater than 90 but lower than 95.\n",
      "Distance: 3\n",
      "BLEU: 0.9677315297684971 \n",
      "\n",
      "Input: There Exists x There Exists y(Act(x) and PreventsHarm(x) and (No (x=y)) and Act(y) and PreventsHarm(y))\n",
      "Output: Some acts prevent harm.\n",
      "Target: Some Acts prevent harmful things.\n",
      "Distance: 11\n",
      "BLEU: 0.6192690367626723 \n",
      "\n",
      "Input: OperatedUntil(yMCA, campDavern, year2015)\n",
      "Output: Camp Davern was operated by the YMCA until the year 2015.\n",
      "Target: Camp Davern was operated by the YMCA until the year 2015.\n",
      "Distance: 0\n",
      "BLEU: 0.9999824564481326 \n",
      "\n",
      "Input: Bioegradable(worksheet)\n",
      "Output: A worksheet is biodegradable.\n",
      "Target: A worksheet is biodegradable.\n",
      "Distance: 0\n",
      "BLEU: 0.9999655184303989 \n",
      "\n"
     ]
    }
   ],
   "source": [
    "final_result(dev_text, gold_text)"
   ]
  },
  {
   "cell_type": "markdown",
   "id": "fbf1cf5a-47ef-48ec-86f4-155f75175577",
   "metadata": {},
   "source": [
    "## Generating on Test set"
   ]
  },
  {
   "cell_type": "code",
   "execution_count": 23,
   "id": "08d38caa-2aa2-43c8-9c6f-e97d63622b83",
   "metadata": {
    "tags": []
   },
   "outputs": [],
   "source": [
    "def test(dataset, beam=5, penalty=1, no_repeat_ngram=3, max_len=100, device='cuda'):\n",
    "    model.eval()\n",
    "    test_token_list = []\n",
    "    test_text_list = []\n",
    "    \n",
    "    dataset = torch.tensor(dataset).to(device)\n",
    "    \n",
    "    with torch.no_grad():\n",
    "        for input_test_ids in tqdm(dataset,leave=False):\n",
    "\n",
    "            test_generated_tokens = model.generate(\n",
    "                                        input_ids=input_test_ids.unsqueeze(0),\n",
    "                                        pad_token_id=tokenizer.pad_token_id,\n",
    "                                        eos_token_id=tokenizer.eos_token_id,\n",
    "                                        num_beams=beam,\n",
    "                                        repetition_penalty=penalty,\n",
    "                                        no_repeat_ngram_size=no_repeat_ngram,\n",
    "                                        early_stopping=True,\n",
    "                                        max_length=max_len\n",
    "                                    )\n",
    "\n",
    "            test_generated_text = tokenizer.batch_decode(test_generated_tokens, skip_special_tokens=True)\n",
    "\n",
    "            for to in test_generated_tokens:\n",
    "                test_token_list.append(to.tolist())  \n",
    "            test_text_list.extend(test_generated_text)  \n",
    "\n",
    "    return test_token_list, test_text_list"
   ]
  },
  {
   "cell_type": "code",
   "execution_count": null,
   "id": "4daa0f8c-84ce-4a2f-94a5-afcfb61642bf",
   "metadata": {},
   "outputs": [],
   "source": [
    "torch.cuda.empty_cache()"
   ]
  },
  {
   "cell_type": "code",
   "execution_count": 33,
   "id": "3b9c5b23-e6ce-4765-bef7-d913fb984a88",
   "metadata": {
    "tags": []
   },
   "outputs": [
    {
     "name": "stderr",
     "output_type": "stream",
     "text": [
      "/tmp/ipykernel_45228/237760238.py:6: UserWarning: To copy construct from a tensor, it is recommended to use sourceTensor.clone().detach() or sourceTensor.clone().detach().requires_grad_(True), rather than torch.tensor(sourceTensor).\n",
      "  dataset = torch.tensor(dataset).to(device)\n"
     ]
    },
    {
     "data": {
      "application/vnd.jupyter.widget-view+json": {
       "model_id": "",
       "version_major": 2,
       "version_minor": 0
      },
      "text/plain": [
       "  0%|          | 0/3071 [00:00<?, ?it/s]"
      ]
     },
     "metadata": {},
     "output_type": "display_data"
    }
   ],
   "source": [
    "test_token_list, test_text_list = test(x_test)"
   ]
  },
  {
   "cell_type": "code",
   "execution_count": 37,
   "id": "88116beb-2869-47a4-99f2-d413e80feb6a",
   "metadata": {
    "tags": []
   },
   "outputs": [
    {
     "data": {
      "text/html": [
       "<div>\n",
       "<style scoped>\n",
       "    .dataframe tbody tr th:only-of-type {\n",
       "        vertical-align: middle;\n",
       "    }\n",
       "\n",
       "    .dataframe tbody tr th {\n",
       "        vertical-align: top;\n",
       "    }\n",
       "\n",
       "    .dataframe thead th {\n",
       "        text-align: right;\n",
       "    }\n",
       "</style>\n",
       "<table border=\"1\" class=\"dataframe\">\n",
       "  <thead>\n",
       "    <tr style=\"text-align: right;\">\n",
       "      <th></th>\n",
       "      <th>FOL2NW</th>\n",
       "      <th>T5_FOL2NS</th>\n",
       "    </tr>\n",
       "  </thead>\n",
       "  <tbody>\n",
       "    <tr>\n",
       "      <th>0</th>\n",
       "      <td>For All  a ( Mentors(a) and For All  district ...</td>\n",
       "      <td>Districts are either spacious or have a presid...</td>\n",
       "    </tr>\n",
       "    <tr>\n",
       "      <th>1</th>\n",
       "      <td>For All  a ( No  Studies(a) XOR  No  Develops(...</td>\n",
       "      <td>A person either studies or does not develop a ...</td>\n",
       "    </tr>\n",
       "    <tr>\n",
       "      <th>2</th>\n",
       "      <td>For All  a ( HasOfficeIn(a) implies For All  c...</td>\n",
       "      <td>If the chef has an office in a building, then ...</td>\n",
       "    </tr>\n",
       "    <tr>\n",
       "      <th>3</th>\n",
       "      <td>For All  a Follows(a) implies For All  archite...</td>\n",
       "      <td>If a person follows a lead, then no architect ...</td>\n",
       "    </tr>\n",
       "    <tr>\n",
       "      <th>4</th>\n",
       "      <td>For All  a ( TravelsTo(a) and There Exists  ma...</td>\n",
       "      <td>No man travels to another city if he is not bu...</td>\n",
       "    </tr>\n",
       "    <tr>\n",
       "      <th>...</th>\n",
       "      <td>...</td>\n",
       "      <td>...</td>\n",
       "    </tr>\n",
       "    <tr>\n",
       "      <th>3066</th>\n",
       "      <td>For All  a ( IsRich(a) XOR  For All  strategis...</td>\n",
       "      <td>A person is either rich or a strategist is a s...</td>\n",
       "    </tr>\n",
       "    <tr>\n",
       "      <th>3067</th>\n",
       "      <td>For All  a ( IsSpacious(a) implies For All  ph...</td>\n",
       "      <td>If a person is spacious, then either the photo...</td>\n",
       "    </tr>\n",
       "    <tr>\n",
       "      <th>3068</th>\n",
       "      <td>IsSad(researcher) or IsGenerous(pilot, c)</td>\n",
       "      <td>Pilot, c, is sad or generous.</td>\n",
       "    </tr>\n",
       "    <tr>\n",
       "      <th>3069</th>\n",
       "      <td>For All  a ( Mentors(a) or For All  institute ...</td>\n",
       "      <td>The institute either mentors young artists or ...</td>\n",
       "    </tr>\n",
       "    <tr>\n",
       "      <th>3070</th>\n",
       "      <td>For All  a ( IsSad(a) implies There Exists  in...</td>\n",
       "      <td>If a person is sad, then an investor cooperate...</td>\n",
       "    </tr>\n",
       "  </tbody>\n",
       "</table>\n",
       "<p>3071 rows × 2 columns</p>\n",
       "</div>"
      ],
      "text/plain": [
       "                                                 FOL2NW  \\\n",
       "0     For All  a ( Mentors(a) and For All  district ...   \n",
       "1     For All  a ( No  Studies(a) XOR  No  Develops(...   \n",
       "2     For All  a ( HasOfficeIn(a) implies For All  c...   \n",
       "3     For All  a Follows(a) implies For All  archite...   \n",
       "4     For All  a ( TravelsTo(a) and There Exists  ma...   \n",
       "...                                                 ...   \n",
       "3066  For All  a ( IsRich(a) XOR  For All  strategis...   \n",
       "3067  For All  a ( IsSpacious(a) implies For All  ph...   \n",
       "3068          IsSad(researcher) or IsGenerous(pilot, c)   \n",
       "3069  For All  a ( Mentors(a) or For All  institute ...   \n",
       "3070  For All  a ( IsSad(a) implies There Exists  in...   \n",
       "\n",
       "                                              T5_FOL2NS  \n",
       "0     Districts are either spacious or have a presid...  \n",
       "1     A person either studies or does not develop a ...  \n",
       "2     If the chef has an office in a building, then ...  \n",
       "3     If a person follows a lead, then no architect ...  \n",
       "4     No man travels to another city if he is not bu...  \n",
       "...                                                 ...  \n",
       "3066  A person is either rich or a strategist is a s...  \n",
       "3067  If a person is spacious, then either the photo...  \n",
       "3068                      Pilot, c, is sad or generous.  \n",
       "3069  The institute either mentors young artists or ...  \n",
       "3070  If a person is sad, then an investor cooperate...  \n",
       "\n",
       "[3071 rows x 2 columns]"
      ]
     },
     "execution_count": 37,
     "metadata": {},
     "output_type": "execute_result"
    }
   ],
   "source": [
    "T5_Defined_FOL2NS = pd.DataFrame({\n",
    "                            \"FOL2NW\": FOL2NW_text,\n",
    "                            \"T5_FOL2NS\": test_text_list})\n",
    "T5_Defined_FOL2NS"
   ]
  },
  {
   "cell_type": "code",
   "execution_count": 35,
   "id": "fb070c48-3966-447a-8f18-69e129ff963e",
   "metadata": {
    "tags": []
   },
   "outputs": [
    {
     "name": "stderr",
     "output_type": "stream",
     "text": [
      "/tmp/ipykernel_45228/237760238.py:6: UserWarning: To copy construct from a tensor, it is recommended to use sourceTensor.clone().detach() or sourceTensor.clone().detach().requires_grad_(True), rather than torch.tensor(sourceTensor).\n",
      "  dataset = torch.tensor(dataset).to(device)\n"
     ]
    },
    {
     "data": {
      "application/vnd.jupyter.widget-view+json": {
       "model_id": "",
       "version_major": 2,
       "version_minor": 0
      },
      "text/plain": [
       "  0%|          | 0/10 [00:00<?, ?it/s]"
      ]
     },
     "metadata": {},
     "output_type": "display_data"
    }
   ],
   "source": [
    "test_token_sample, test_text_sample = test(x_test[:10])"
   ]
  },
  {
   "cell_type": "code",
   "execution_count": 34,
   "id": "de6c56a0-913a-4f63-8086-c83d27ed2fcb",
   "metadata": {
    "tags": []
   },
   "outputs": [
    {
     "name": "stdout",
     "output_type": "stream",
     "text": [
      "FOL2NW: For All  a ( Mentors(a) and For All  district IsSpacious(district) XOR  There Exists  president Mentors(president, specialist) )\n",
      "--> Districts are either spacious or have a president mentor a specialist. \n",
      "\n",
      "FOL2NW: For All  a ( No  Studies(a) XOR  No  Develops(a, bicycle) or No  IsBasedIn(a, country) )\n",
      "--> A person either studies or does not develop a bicycle, or they are not based in a country. \n",
      "\n",
      "FOL2NW: For All  a ( HasOfficeIn(a) implies For All  chef ( No  LivesIn(chef, zone) or No  IsThoughtful(chef) ) )\n",
      "--> If the chef has an office in a building, then the chef neither lives in the zone nor is thoughtful. \n",
      "\n",
      "FOL2NW: For All  a Follows(a) implies For All  architect No  IsThoughtful(architect) and For All  lawyer No  Drives(lawyer)\n",
      "--> If a person follows a lead, then no architect is thoughtful and no lawyer drives. \n",
      "\n",
      "FOL2NW: For All  a ( TravelsTo(a) and There Exists  man ( No  IsBusy(man) or There Exists  teacher Uses(teacher, car) ) )\n",
      "--> No man travels to another city if he is not busy or a teacher uses a car. \n",
      "\n",
      "FOL2NW: For All  a Endorses(a) implies There Exists  region IsRural(region) and For All  laboratory Endorses(laboratory)\n",
      "--> If a person endorses a product, then the region is rural and the laboratory is also rural. \n",
      "\n",
      "FOL2NW: For All  a ( No  Roams(a, park) implies Roams(a) )\n",
      "--> If a person does not roam a park, then they roam. \n",
      "\n",
      "FOL2NW: For All  a No  IsStudent(a) implies There Exists  salesperson IsInnovative(salesperson) or There Exists  researcher No  IsAngry(researcher, d)\n",
      "--> If A is not a student, then the salesperson is innovative or the researcher is not angry. \n",
      "\n",
      "FOL2NW: For All  a HasOfficeIn(a, state) and There Exists  doctor No  IsDoctor(doctor) or There Exists  area No  IsUrban(area, e)\n",
      "--> A doctor has an office in the state, or the area is not urban. \n",
      "\n",
      "FOL2NW: For All  a ( No  IsInnovative(a) implies Endorses(a) XOR  No  IsSad(a, b) )\n",
      "--> Nobody who is not innovative endorses or is sad. \n",
      "\n"
     ]
    }
   ],
   "source": [
    "FOL2NW_text = X_test\n",
    "\n",
    "for i in range(10):\n",
    "        print(\"FOL2NW:\", FOL2NW_text[i])\n",
    "        print(\"-->\", test_text_list[i],\"\\n\")"
   ]
  },
  {
   "cell_type": "code",
   "execution_count": 38,
   "id": "2b76f6c0-ffe4-4f7c-b516-7a68b75fab62",
   "metadata": {
    "tags": []
   },
   "outputs": [],
   "source": [
    "# T5_Defined_FOL2NS.to_json(\n",
    "#     \"T5_Defined_FOL2NS.json\",\n",
    "#     orient=\"records\",\n",
    "#     lines=True,        \n",
    "#     force_ascii=False\n",
    "# )"
   ]
  }
 ],
 "metadata": {
  "kernelspec": {
   "display_name": "Python 3 (ipykernel)",
   "language": "python",
   "name": "python3"
  },
  "language_info": {
   "codemirror_mode": {
    "name": "ipython",
    "version": 3
   },
   "file_extension": ".py",
   "mimetype": "text/x-python",
   "name": "python",
   "nbconvert_exporter": "python",
   "pygments_lexer": "ipython3",
   "version": "3.11.5"
  }
 },
 "nbformat": 4,
 "nbformat_minor": 5
}
